{
 "cells": [
  {
   "cell_type": "markdown",
   "metadata": {},
   "source": [
    "# Valid Parentheses\n",
    "\n",
    "Given a string s containing just the characters `(`, `)`, `{`, `}`, `[` and `]`, determine if the input string is valid.\n",
    "\n",
    "An input string is valid if:\n",
    "\n",
    "Open brackets must be closed by the same type of brackets.\n",
    "Open brackets must be closed in the correct order.\n",
    "Every close bracket has a corresponding open bracket of the same type.\n",
    " \n",
    "\n",
    "**Example 1:**\n",
    "\n",
    "Input: s = \"()\"\n",
    "Output: true\n",
    "\n",
    "\n",
    "**Example 2:**\n",
    "\n",
    "Input: s = \"()[]{}\"\n",
    "Output: true\n",
    "\n",
    "\n",
    "**Example 3:**\n",
    "\n",
    "Input: s = \"(]\"\n",
    "Output: false\n",
    " \n",
    "\n",
    "**Constraints:**\n",
    "\n",
    "s consists of parentheses only '()[]{}'."
   ]
  },
  {
   "cell_type": "code",
   "execution_count": 1,
   "metadata": {},
   "outputs": [],
   "source": [
    "import numpy as np\n",
    "import pandas as pd\n",
    "import matplotlib.pyplot as plt\n",
    "import seaborn as sns\n",
    "import tensorflow as tf\n",
    "\n",
    "from tqdm.notebook import tqdm\n",
    "\n",
    "from sklearn.model_selection import train_test_split\n",
    "from sklearn.metrics import confusion_matrix\n",
    "\n",
    "import keras.metrics as metrics\n",
    "\n",
    "np.random.seed(42)"
   ]
  },
  {
   "cell_type": "code",
   "execution_count": 2,
   "metadata": {},
   "outputs": [
    {
     "data": {
      "text/plain": [
       "[PhysicalDevice(name='/physical_device:GPU:0', device_type='GPU')]"
      ]
     },
     "execution_count": 2,
     "metadata": {},
     "output_type": "execute_result"
    }
   ],
   "source": [
    "tf.config.list_physical_devices('GPU')"
   ]
  },
  {
   "cell_type": "code",
   "execution_count": 3,
   "metadata": {},
   "outputs": [
    {
     "data": {
      "image/png": "[encoded data removed]",
      "text/plain": [
       "<Figure size 640x480 with 1 Axes>"
      ]
     },
     "metadata": {},
     "output_type": "display_data"
    }
   ],
   "source": [
    "MAX_LENGTH_STRING = 8\n",
    "\n",
    "VALID_CHARACTERS = [\n",
    "    \"(\",\n",
    "    \")\",\n",
    "    \"[\",\n",
    "    \"]\",\n",
    "    \"{\",\n",
    "    \"}\",\n",
    "]\n",
    "\n",
    "MATCH = {\n",
    "    \")\": \"(\",\n",
    "    \"]\": \"[\",\n",
    "    \"}\": \"{\",\n",
    "}\n",
    "\n",
    "\n",
    "def is_valid(string: str) -> bool:\n",
    "    match = MATCH\n",
    "\n",
    "    stack = []\n",
    "    for char in string:\n",
    "        # opening\n",
    "        if char in match.values():\n",
    "            stack.append(char)\n",
    "\n",
    "        # closing\n",
    "        else:\n",
    "            if not stack:\n",
    "                return False\n",
    "\n",
    "            item = stack.pop()\n",
    "            if item != match[char]:\n",
    "                return False\n",
    "\n",
    "    return False if stack else True\n",
    "\n",
    "\n",
    "def generate_even_number(min_value, max_value):\n",
    "    number = np.random.randint(min_value // 2, max_value // 2 + 1)\n",
    "    even_number = number * 2\n",
    "    return even_number\n",
    "\n",
    "\n",
    "# It generates the even numbers uniformly distributed, including the min and max values.\n",
    "df = pd.DataFrame()\n",
    "df[\"trials\"] = [generate_even_number(0, 12) for _ in range(10_000)]\n",
    "df[\"trials\"].value_counts().sort_index().plot(kind=\"bar\")\n",
    "plt.show()"
   ]
  },
  {
   "cell_type": "code",
   "execution_count": 4,
   "metadata": {},
   "outputs": [
    {
     "data": {
      "text/html": [
       "<div>\n",
       "<style scoped>\n",
       "    .dataframe tbody tr th:only-of-type {\n",
       "        vertical-align: middle;\n",
       "    }\n",
       "\n",
       "    .dataframe tbody tr th {\n",
       "        vertical-align: top;\n",
       "    }\n",
       "\n",
       "    .dataframe thead th {\n",
       "        text-align: right;\n",
       "    }\n",
       "</style>\n",
       "<table border=\"1\" class=\"dataframe\">\n",
       "  <thead>\n",
       "    <tr style=\"text-align: right;\">\n",
       "      <th></th>\n",
       "      <th>string</th>\n",
       "      <th>is_valid</th>\n",
       "    </tr>\n",
       "  </thead>\n",
       "  <tbody>\n",
       "    <tr>\n",
       "      <th>0</th>\n",
       "      <td>{}()</td>\n",
       "      <td>True</td>\n",
       "    </tr>\n",
       "    <tr>\n",
       "      <th>1</th>\n",
       "      <td>{()}</td>\n",
       "      <td>True</td>\n",
       "    </tr>\n",
       "    <tr>\n",
       "      <th>2</th>\n",
       "      <td>{()}</td>\n",
       "      <td>True</td>\n",
       "    </tr>\n",
       "    <tr>\n",
       "      <th>3</th>\n",
       "      <td>{()}</td>\n",
       "      <td>True</td>\n",
       "    </tr>\n",
       "    <tr>\n",
       "      <th>4</th>\n",
       "      <td>(())</td>\n",
       "      <td>True</td>\n",
       "    </tr>\n",
       "  </tbody>\n",
       "</table>\n",
       "</div>"
      ],
      "text/plain": [
       "  string  is_valid\n",
       "0   {}()      True\n",
       "1   {()}      True\n",
       "2   {()}      True\n",
       "3   {()}      True\n",
       "4   (())      True"
      ]
     },
     "metadata": {},
     "output_type": "display_data"
    },
    {
     "data": {
      "text/html": [
       "<div>\n",
       "<style scoped>\n",
       "    .dataframe tbody tr th:only-of-type {\n",
       "        vertical-align: middle;\n",
       "    }\n",
       "\n",
       "    .dataframe tbody tr th {\n",
       "        vertical-align: top;\n",
       "    }\n",
       "\n",
       "    .dataframe thead th {\n",
       "        text-align: right;\n",
       "    }\n",
       "</style>\n",
       "<table border=\"1\" class=\"dataframe\">\n",
       "  <thead>\n",
       "    <tr style=\"text-align: right;\">\n",
       "      <th></th>\n",
       "      <th>string</th>\n",
       "      <th>is_valid</th>\n",
       "    </tr>\n",
       "  </thead>\n",
       "  <tbody>\n",
       "    <tr>\n",
       "      <th>0</th>\n",
       "      <td>]{{[[(</td>\n",
       "      <td>False</td>\n",
       "    </tr>\n",
       "    <tr>\n",
       "      <th>1</th>\n",
       "      <td>[(}([{[]</td>\n",
       "      <td>False</td>\n",
       "    </tr>\n",
       "    <tr>\n",
       "      <th>2</th>\n",
       "      <td>]]})]{})</td>\n",
       "      <td>False</td>\n",
       "    </tr>\n",
       "    <tr>\n",
       "      <th>3</th>\n",
       "      <td>][([[)</td>\n",
       "      <td>False</td>\n",
       "    </tr>\n",
       "    <tr>\n",
       "      <th>4</th>\n",
       "      <td>}}){{(</td>\n",
       "      <td>False</td>\n",
       "    </tr>\n",
       "  </tbody>\n",
       "</table>\n",
       "</div>"
      ],
      "text/plain": [
       "     string  is_valid\n",
       "0    ]{{[[(     False\n",
       "1  [(}([{[]     False\n",
       "2  ]]})]{})     False\n",
       "3    ][([[)     False\n",
       "4    }}){{(     False"
      ]
     },
     "metadata": {},
     "output_type": "display_data"
    }
   ],
   "source": [
    "def generate_fixed_length_data_point(length) -> tuple:\n",
    "    even_number = generate_even_number(length, length)\n",
    "    string = \"\".join(\n",
    "        np.random.choice(\n",
    "            VALID_CHARACTERS,\n",
    "            size=even_number,\n",
    "            replace=True,\n",
    "        )\n",
    "    )\n",
    "    return string, is_valid(string)\n",
    "\n",
    "\n",
    "def generate_random_data_point(min_length, max_length) -> tuple:\n",
    "    even_number = generate_even_number(min_length, max_length)\n",
    "    return generate_fixed_length_data_point(even_number)\n",
    "\n",
    "\n",
    "def generate_data_positive(\n",
    "    num_samples,\n",
    "    min_length=4,\n",
    "    max_length=MAX_LENGTH_STRING,\n",
    ") -> pd.DataFrame:\n",
    "    \"\"\"Generate the data points which are valid parentheses.\"\"\"\n",
    "    data = []\n",
    "    while len(data) < num_samples:\n",
    "        string, is_valid = generate_random_data_point(min_length, max_length)\n",
    "        if is_valid:\n",
    "            data.append([string, is_valid])\n",
    "\n",
    "    df = pd.DataFrame(data, columns=[\"string\", \"is_valid\"])\n",
    "    return df\n",
    "\n",
    "\n",
    "def generate_data_negative(\n",
    "    num_samples,\n",
    "    min_length=4,\n",
    "    max_length=MAX_LENGTH_STRING,\n",
    ") -> pd.DataFrame:\n",
    "    \"\"\"Generate the data points which are not valid parentheses.\"\"\"\n",
    "    data = []\n",
    "    while len(data) < num_samples:\n",
    "        string, is_valid = generate_random_data_point(min_length, max_length)\n",
    "        if not is_valid:\n",
    "            data.append([string, is_valid])\n",
    "\n",
    "    df = pd.DataFrame(data, columns=[\"string\", \"is_valid\"])\n",
    "    return df\n",
    "\n",
    "\n",
    "display(generate_data_positive(5))\n",
    "display(generate_data_negative(5))"
   ]
  },
  {
   "cell_type": "markdown",
   "metadata": {},
   "source": [
    "This is good, but our positive data will probably be containing shorter strings, as it's more probable for the shorter string to be valid."
   ]
  },
  {
   "cell_type": "code",
   "execution_count": 5,
   "metadata": {},
   "outputs": [
    {
     "data": {
      "text/plain": [
       "4     20\n",
       "6     20\n",
       "8     20\n",
       "10    20\n",
       "12    20\n",
       "dtype: int64"
      ]
     },
     "metadata": {},
     "output_type": "display_data"
    },
    {
     "name": "stdout",
     "output_type": "stream",
     "text": [
      "Warning: We have 98 data points instead of 100 due to uneven distribution.\n"
     ]
    },
    {
     "data": {
      "text/plain": [
       "4     14\n",
       "6     14\n",
       "8     14\n",
       "10    14\n",
       "12    14\n",
       "14    14\n",
       "16    14\n",
       "dtype: int64"
      ]
     },
     "metadata": {},
     "output_type": "display_data"
    }
   ],
   "source": [
    "def get_even_lengths(num_samples, min_length, max_length):\n",
    "    \"\"\"\n",
    "    Get evenly distributed lengths for given number of samples.\n",
    "    E.g., num_samples=100, min_length=4, max_length=12, that means we will have 5 even numbers, and each will have 20 samples.\n",
    "    \"\"\"\n",
    "    even_numbers = np.arange(min_length, max_length + 1, 2)\n",
    "    even_numbers = np.repeat(even_numbers, num_samples // len(even_numbers))\n",
    "    if len(even_numbers) < num_samples:\n",
    "        print(\n",
    "            f\"Warning: We have {len(even_numbers)} data points instead of {num_samples} due to uneven distribution.\"\n",
    "        )\n",
    "    return even_numbers\n",
    "\n",
    "\n",
    "display(pd.DataFrame(get_even_lengths(100, 4, 12)).value_counts())\n",
    "display(pd.DataFrame(get_even_lengths(100, 4, 16)).value_counts())"
   ]
  },
  {
   "cell_type": "code",
   "execution_count": 6,
   "metadata": {},
   "outputs": [
    {
     "data": {
      "text/plain": [
       "array([ 4,  4,  6,  6,  8,  8, 10, 10, 12, 12])"
      ]
     },
     "execution_count": 6,
     "metadata": {},
     "output_type": "execute_result"
    }
   ],
   "source": [
    "get_even_lengths(10, 4, 12)"
   ]
  },
  {
   "cell_type": "code",
   "execution_count": 7,
   "metadata": {},
   "outputs": [],
   "source": [
    "def generate_training_data(\n",
    "    num_samples,\n",
    "    min_length,\n",
    "    max_string,\n",
    "):\n",
    "    num_positive_samples = num_samples // 2\n",
    "    num_negative_samples = num_samples // 2\n",
    "\n",
    "    even_lengths = get_even_lengths(\n",
    "        num_positive_samples,  # or num_negative_samples\n",
    "        min_length,\n",
    "        max_string,\n",
    "    )\n",
    "\n",
    "    # Generate positive data\n",
    "    positive_dataframes = []\n",
    "    pbar = tqdm(total=len(even_lengths), desc=\"Generating positive data\")\n",
    "    for length in even_lengths:\n",
    "        df = generate_data_positive(1, length, length)\n",
    "        positive_dataframes.append(df)\n",
    "        pbar.update(1)\n",
    "\n",
    "    pbar.close()\n",
    "    positive_data = pd.concat(positive_dataframes, ignore_index=True)\n",
    "\n",
    "    # Generate negative data\n",
    "    negative_dataframes = []\n",
    "    pbar = tqdm(total=len(even_lengths), desc=\"Generating negative data\")\n",
    "    for length in even_lengths:\n",
    "        df = generate_data_negative(1, length, length)\n",
    "        negative_dataframes.append(df)\n",
    "        pbar.update(1)\n",
    "\n",
    "    pbar.close()\n",
    "    negative_data = pd.concat(negative_dataframes, ignore_index=True)\n",
    "\n",
    "    # Combine positive and negative data\n",
    "    training_data = pd.concat([positive_data, negative_data], ignore_index=True)\n",
    "\n",
    "    return training_data"
   ]
  },
  {
   "cell_type": "code",
   "execution_count": 8,
   "metadata": {},
   "outputs": [
    {
     "data": {
      "application/vnd.jupyter.widget-view+json": {
       "model_id": "0668194004d24706b3c5951250dfafd4",
       "version_major": 2,
       "version_minor": 0
      },
      "text/plain": [
       "Generating positive data:   0%|          | 0/5 [00:00<?, ?it/s]"
      ]
     },
     "metadata": {},
     "output_type": "display_data"
    },
    {
     "data": {
      "application/vnd.jupyter.widget-view+json": {
       "model_id": "4e8dcaced9834d2192729ca79f7f902c",
       "version_major": 2,
       "version_minor": 0
      },
      "text/plain": [
       "Generating negative data:   0%|          | 0/5 [00:00<?, ?it/s]"
      ]
     },
     "metadata": {},
     "output_type": "display_data"
    },
    {
     "data": {
      "text/html": [
       "<div>\n",
       "<style scoped>\n",
       "    .dataframe tbody tr th:only-of-type {\n",
       "        vertical-align: middle;\n",
       "    }\n",
       "\n",
       "    .dataframe tbody tr th {\n",
       "        vertical-align: top;\n",
       "    }\n",
       "\n",
       "    .dataframe thead th {\n",
       "        text-align: right;\n",
       "    }\n",
       "</style>\n",
       "<table border=\"1\" class=\"dataframe\">\n",
       "  <thead>\n",
       "    <tr style=\"text-align: right;\">\n",
       "      <th></th>\n",
       "      <th>string</th>\n",
       "      <th>is_valid</th>\n",
       "    </tr>\n",
       "  </thead>\n",
       "  <tbody>\n",
       "    <tr>\n",
       "      <th>0</th>\n",
       "      <td>[][]</td>\n",
       "      <td>True</td>\n",
       "    </tr>\n",
       "    <tr>\n",
       "      <th>1</th>\n",
       "      <td>()()()</td>\n",
       "      <td>True</td>\n",
       "    </tr>\n",
       "    <tr>\n",
       "      <th>2</th>\n",
       "      <td>([])()()</td>\n",
       "      <td>True</td>\n",
       "    </tr>\n",
       "    <tr>\n",
       "      <th>3</th>\n",
       "      <td>{({})()}()</td>\n",
       "      <td>True</td>\n",
       "    </tr>\n",
       "    <tr>\n",
       "      <th>4</th>\n",
       "      <td>[{}{}(({}))]</td>\n",
       "      <td>True</td>\n",
       "    </tr>\n",
       "    <tr>\n",
       "      <th>5</th>\n",
       "      <td>[}{}</td>\n",
       "      <td>False</td>\n",
       "    </tr>\n",
       "    <tr>\n",
       "      <th>6</th>\n",
       "      <td>({{({}</td>\n",
       "      <td>False</td>\n",
       "    </tr>\n",
       "    <tr>\n",
       "      <th>7</th>\n",
       "      <td>)[){)]{]</td>\n",
       "      <td>False</td>\n",
       "    </tr>\n",
       "    <tr>\n",
       "      <th>8</th>\n",
       "      <td>})}([(]}(]</td>\n",
       "      <td>False</td>\n",
       "    </tr>\n",
       "    <tr>\n",
       "      <th>9</th>\n",
       "      <td>([{[)})([){(</td>\n",
       "      <td>False</td>\n",
       "    </tr>\n",
       "  </tbody>\n",
       "</table>\n",
       "</div>"
      ],
      "text/plain": [
       "         string  is_valid\n",
       "0          [][]      True\n",
       "1        ()()()      True\n",
       "2      ([])()()      True\n",
       "3    {({})()}()      True\n",
       "4  [{}{}(({}))]      True\n",
       "5          [}{}     False\n",
       "6        ({{({}     False\n",
       "7      )[){)]{]     False\n",
       "8    })}([(]}(]     False\n",
       "9  ([{[)})([){(     False"
      ]
     },
     "execution_count": 8,
     "metadata": {},
     "output_type": "execute_result"
    }
   ],
   "source": [
    "generate_training_data(\n",
    "    num_samples=10,\n",
    "    min_length=4,\n",
    "    max_string=12,\n",
    ")"
   ]
  },
  {
   "cell_type": "markdown",
   "metadata": {},
   "source": [
    "Perfect :)"
   ]
  },
  {
   "cell_type": "code",
   "execution_count": 9,
   "metadata": {},
   "outputs": [
    {
     "name": "stdout",
     "output_type": "stream",
     "text": [
      "[3 1 3 5 6 4 2 4]\n",
      "[1 1 2 2 0 0 0 0]\n"
     ]
    }
   ],
   "source": [
    "# Encode the parentheses strings into integers\n",
    "def encode(string, max_length) -> np.ndarray:\n",
    "    \"\"\"Encode the parentheses strings into a vector of integers.\"\"\"\n",
    "    encoded = np.zeros(max_length, dtype=int)\n",
    "    for i, char in enumerate(string):\n",
    "        encoded[i] = VALID_CHARACTERS.index(char) + 1\n",
    "\n",
    "    return encoded\n",
    "\n",
    "\n",
    "print(encode(\"[([{}])]\", max_length=MAX_LENGTH_STRING))\n",
    "print(encode(\"(())\", max_length=MAX_LENGTH_STRING))"
   ]
  },
  {
   "cell_type": "code",
   "execution_count": 10,
   "metadata": {},
   "outputs": [
    {
     "name": "stdout",
     "output_type": "stream",
     "text": [
      "[([{}])]\n",
      "(())\n"
     ]
    }
   ],
   "source": [
    "def decode(encoded_string) -> str:\n",
    "    \"\"\"Decode the integers into parentheses strings.\"\"\"\n",
    "    string = \"\"\n",
    "    for i in encoded_string:\n",
    "        if i == 0:\n",
    "            break\n",
    "        string += VALID_CHARACTERS[i - 1]\n",
    "\n",
    "    return string\n",
    "\n",
    "\n",
    "print(decode([3, 1, 3, 5, 6, 4, 2, 4]))\n",
    "print(decode([1, 1, 2, 2, 0, 0, 0, 0]))"
   ]
  },
  {
   "cell_type": "markdown",
   "metadata": {},
   "source": [
    "Let us know create our training data."
   ]
  },
  {
   "cell_type": "code",
   "execution_count": 11,
   "metadata": {},
   "outputs": [
    {
     "name": "stdout",
     "output_type": "stream",
     "text": [
      "Warning: We have 4998 data points instead of 5000 due to uneven distribution.\n"
     ]
    },
    {
     "data": {
      "application/vnd.jupyter.widget-view+json": {
       "model_id": "5837b81e816c4e089217c4149e0ee437",
       "version_major": 2,
       "version_minor": 0
      },
      "text/plain": [
       "Generating positive data:   0%|          | 0/4998 [00:00<?, ?it/s]"
      ]
     },
     "metadata": {},
     "output_type": "display_data"
    },
    {
     "data": {
      "application/vnd.jupyter.widget-view+json": {
       "model_id": "356777742b144e1782e4be41647fdc59",
       "version_major": 2,
       "version_minor": 0
      },
      "text/plain": [
       "Generating negative data:   0%|          | 0/4998 [00:00<?, ?it/s]"
      ]
     },
     "metadata": {},
     "output_type": "display_data"
    }
   ],
   "source": [
    "n_samples = 10_000\n",
    "min_length = 4\n",
    "max_length = MAX_LENGTH_STRING\n",
    "training_data = generate_training_data(n_samples, min_length, max_length)"
   ]
  },
  {
   "cell_type": "code",
   "execution_count": 12,
   "metadata": {},
   "outputs": [],
   "source": [
    "# Save the generated training data\n",
    "training_data.to_csv(f\"./Valid_Parentheses/training_data_max_length_{MAX_LENGTH_STRING}.csv\", index=False)"
   ]
  },
  {
   "cell_type": "code",
   "execution_count": 13,
   "metadata": {},
   "outputs": [
    {
     "data": {
      "image/png": "[encoded data removed]",
      "text/plain": [
       "<Figure size 1200x400 with 2 Axes>"
      ]
     },
     "metadata": {},
     "output_type": "display_data"
    },
    {
     "data": {
      "text/html": [
       "<div>\n",
       "<style scoped>\n",
       "    .dataframe tbody tr th:only-of-type {\n",
       "        vertical-align: middle;\n",
       "    }\n",
       "\n",
       "    .dataframe tbody tr th {\n",
       "        vertical-align: top;\n",
       "    }\n",
       "\n",
       "    .dataframe thead th {\n",
       "        text-align: right;\n",
       "    }\n",
       "</style>\n",
       "<table border=\"1\" class=\"dataframe\">\n",
       "  <thead>\n",
       "    <tr style=\"text-align: right;\">\n",
       "      <th></th>\n",
       "      <th>string</th>\n",
       "      <th>is_valid</th>\n",
       "    </tr>\n",
       "  </thead>\n",
       "  <tbody>\n",
       "    <tr>\n",
       "      <th>0</th>\n",
       "      <td>()[]</td>\n",
       "      <td>True</td>\n",
       "    </tr>\n",
       "    <tr>\n",
       "      <th>1</th>\n",
       "      <td>(){}</td>\n",
       "      <td>True</td>\n",
       "    </tr>\n",
       "    <tr>\n",
       "      <th>2</th>\n",
       "      <td>{[]}</td>\n",
       "      <td>True</td>\n",
       "    </tr>\n",
       "    <tr>\n",
       "      <th>3</th>\n",
       "      <td>{}[]</td>\n",
       "      <td>True</td>\n",
       "    </tr>\n",
       "    <tr>\n",
       "      <th>4</th>\n",
       "      <td>()[]</td>\n",
       "      <td>True</td>\n",
       "    </tr>\n",
       "  </tbody>\n",
       "</table>\n",
       "</div>"
      ],
      "text/plain": [
       "  string  is_valid\n",
       "0   ()[]      True\n",
       "1   (){}      True\n",
       "2   {[]}      True\n",
       "3   {}[]      True\n",
       "4   ()[]      True"
      ]
     },
     "metadata": {},
     "output_type": "display_data"
    }
   ],
   "source": [
    "fig, axes = plt.subplots(1, 2, figsize=(12, 4))\n",
    "training_data[\"string\"].apply(len).value_counts().sort_index().plot(kind=\"bar\", ax=axes[0])\n",
    "axes[0].set_title(\"Distribution of string lengths\")\n",
    "\n",
    "training_data[\"is_valid\"].value_counts().plot(kind=\"bar\", ax=axes[1])\n",
    "axes[1].set_title(\"Distribution of valid parentheses\")\n",
    "\n",
    "plt.show()\n",
    "display(training_data.head())"
   ]
  },
  {
   "cell_type": "markdown",
   "metadata": {},
   "source": [
    "Train test split randomly."
   ]
  },
  {
   "cell_type": "code",
   "execution_count": 14,
   "metadata": {},
   "outputs": [
    {
     "data": {
      "text/plain": [
       "(array([[1, 2, 3, 4, 0, 0, 0, 0],\n",
       "        [1, 2, 5, 6, 0, 0, 0, 0],\n",
       "        [5, 3, 4, 6, 0, 0, 0, 0],\n",
       "        [5, 6, 3, 4, 0, 0, 0, 0],\n",
       "        [1, 2, 3, 4, 0, 0, 0, 0]]),\n",
       " array([1, 1, 1, 1, 1]))"
      ]
     },
     "execution_count": 14,
     "metadata": {},
     "output_type": "execute_result"
    }
   ],
   "source": [
    "X = np.array(\n",
    "    [encode(string, MAX_LENGTH_STRING) for string in training_data[\"string\"].values]\n",
    ")\n",
    "y = training_data[\"is_valid\"].values.astype(int)\n",
    "X[:5], y[:5]"
   ]
  },
  {
   "cell_type": "code",
   "execution_count": 15,
   "metadata": {},
   "outputs": [
    {
     "name": "stdout",
     "output_type": "stream",
     "text": [
      "(7497, 8) (2499, 8) (7497,) (2499,)\n"
     ]
    }
   ],
   "source": [
    "X_train, X_test, y_train, y_test = train_test_split(X, y, random_state=42)\n",
    "print(X_train.shape, X_test.shape, y_train.shape, y_test.shape)"
   ]
  },
  {
   "cell_type": "code",
   "execution_count": 16,
   "metadata": {},
   "outputs": [
    {
     "data": {
      "text/plain": [
       "array([[5, 3, 5, ..., 4, 4, 6],\n",
       "       [3, 5, 6, ..., 4, 3, 4],\n",
       "       [6, 3, 3, ..., 1, 5, 6],\n",
       "       ...,\n",
       "       [1, 4, 5, ..., 0, 0, 0],\n",
       "       [5, 6, 5, ..., 0, 0, 0],\n",
       "       [4, 1, 1, ..., 3, 0, 0]])"
      ]
     },
     "execution_count": 16,
     "metadata": {},
     "output_type": "execute_result"
    }
   ],
   "source": [
    "X_train"
   ]
  },
  {
   "cell_type": "markdown",
   "metadata": {},
   "source": [
    "Model creation"
   ]
  },
  {
   "cell_type": "code",
   "execution_count": 17,
   "metadata": {},
   "outputs": [],
   "source": [
    "learning_rate = 0.001\n",
    "\n",
    "model_1 = tf.keras.Sequential(\n",
    "    [\n",
    "        tf.keras.layers.Embedding(\n",
    "            input_dim=256,\n",
    "            output_dim=64,\n",
    "            input_length=MAX_LENGTH_STRING,\n",
    "        ),\n",
    "        # # kernel_regularizer=tf.keras.regularizers.l2(0.01)),\n",
    "        tf.keras.layers.LSTM(256, return_sequences=True),\n",
    "        # tf.keras.layers.Dropout(0.25),  # Adding dropout\n",
    "        tf.keras.layers.LSTM(128),\n",
    "        # , kernel_regularizer=tf.keras.regularizers.l2(0.01)),\n",
    "        tf.keras.layers.Dense(64, activation=\"relu\"),\n",
    "        # tf.keras.layers.Dropout(0.25),  # Adding dropout\n",
    "        tf.keras.layers.Dense(1, activation=\"sigmoid\"),\n",
    "    ]\n",
    ")\n",
    "\n",
    "\n",
    "model_2 = tf.keras.Sequential(\n",
    "    [\n",
    "        tf.keras.layers.Dense(8, input_shape=(MAX_LENGTH_STRING,), activation=\"relu\"),\n",
    "        tf.keras.layers.Dense(8, activation=\"relu\"),\n",
    "        tf.keras.layers.Dense(8, activation=\"relu\"),\n",
    "        tf.keras.layers.Dense(8, activation=\"relu\"),\n",
    "        tf.keras.layers.Dense(1, activation=\"sigmoid\"),\n",
    "    ]\n",
    ")\n",
    "\n",
    "model_1.compile(\n",
    "    optimizer=tf.keras.optimizers.Adam(learning_rate=learning_rate),\n",
    "    loss=tf.keras.losses.BinaryCrossentropy(),\n",
    "    metrics=[\n",
    "        metrics.BinaryAccuracy(),\n",
    "        metrics.Precision(),\n",
    "        metrics.Recall(),\n",
    "    ],\n",
    ")\n",
    "\n",
    "model_2.compile(\n",
    "    optimizer=tf.keras.optimizers.Adam(learning_rate=learning_rate),\n",
    "    loss=tf.keras.losses.BinaryCrossentropy(),\n",
    "    metrics=[\n",
    "        metrics.BinaryAccuracy(),\n",
    "        metrics.Precision(),\n",
    "        metrics.Recall(),\n",
    "    ],\n",
    ")"
   ]
  },
  {
   "cell_type": "code",
   "execution_count": 18,
   "metadata": {},
   "outputs": [
    {
     "name": "stdout",
     "output_type": "stream",
     "text": [
      "Model: \"sequential\"\n",
      "_________________________________________________________________\n",
      " Layer (type)                Output Shape              Param #   \n",
      "=================================================================\n",
      " embedding (Embedding)       (None, 8, 64)             16384     \n",
      "                                                                 \n",
      " lstm (LSTM)                 (None, 8, 256)            328704    \n",
      "                                                                 \n",
      " lstm_1 (LSTM)               (None, 128)               197120    \n",
      "                                                                 \n",
      " dense (Dense)               (None, 64)                8256      \n",
      "                                                                 \n",
      " dense_1 (Dense)             (None, 1)                 65        \n",
      "                                                                 \n",
      "=================================================================\n",
      "Total params: 550,529\n",
      "Trainable params: 550,529\n",
      "Non-trainable params: 0\n",
      "_________________________________________________________________\n",
      "Model: \"sequential_1\"\n",
      "_________________________________________________________________\n",
      " Layer (type)                Output Shape              Param #   \n",
      "=================================================================\n",
      " dense_2 (Dense)             (None, 8)                 72        \n",
      "                                                                 \n",
      " dense_3 (Dense)             (None, 8)                 72        \n",
      "                                                                 \n",
      " dense_4 (Dense)             (None, 8)                 72        \n",
      "                                                                 \n",
      " dense_5 (Dense)             (None, 8)                 72        \n",
      "                                                                 \n",
      " dense_6 (Dense)             (None, 1)                 9         \n",
      "                                                                 \n",
      "=================================================================\n",
      "Total params: 297\n",
      "Trainable params: 297\n",
      "Non-trainable params: 0\n",
      "_________________________________________________________________\n"
     ]
    }
   ],
   "source": [
    "model_1.summary()\n",
    "model_2.summary()"
   ]
  },
  {
   "cell_type": "code",
   "execution_count": 19,
   "metadata": {},
   "outputs": [
    {
     "name": "stdout",
     "output_type": "stream",
     "text": [
      "Epoch 1/50\n",
      "235/235 [==============================] - 8s 19ms/step - loss: 0.3186 - binary_accuracy: 0.8598 - precision: 0.8321 - recall: 0.8971 - val_loss: 0.1583 - val_binary_accuracy: 0.9484 - val_precision: 0.9095 - val_recall: 1.0000\n",
      "Epoch 2/50\n",
      "235/235 [==============================] - 3s 14ms/step - loss: 0.1211 - binary_accuracy: 0.9639 - precision: 0.9377 - recall: 0.9927 - val_loss: 0.0962 - val_binary_accuracy: 0.9724 - val_precision: 0.9495 - val_recall: 1.0000\n",
      "Epoch 3/50\n",
      "235/235 [==============================] - 3s 13ms/step - loss: 0.0802 - binary_accuracy: 0.9785 - precision: 0.9607 - recall: 0.9973 - val_loss: 0.0805 - val_binary_accuracy: 0.9756 - val_precision: 0.9654 - val_recall: 0.9884\n",
      "Epoch 4/50\n",
      "235/235 [==============================] - 3s 13ms/step - loss: 0.0862 - binary_accuracy: 0.9765 - precision: 0.9605 - recall: 0.9932 - val_loss: 0.0448 - val_binary_accuracy: 0.9892 - val_precision: 0.9796 - val_recall: 1.0000\n",
      "Epoch 5/50\n",
      "235/235 [==============================] - 3s 13ms/step - loss: 0.0808 - binary_accuracy: 0.9767 - precision: 0.9622 - recall: 0.9916 - val_loss: 0.0459 - val_binary_accuracy: 0.9912 - val_precision: 0.9833 - val_recall: 1.0000\n",
      "Epoch 6/50\n",
      "235/235 [==============================] - 3s 13ms/step - loss: 0.0504 - binary_accuracy: 0.9881 - precision: 0.9775 - recall: 0.9989 - val_loss: 0.0404 - val_binary_accuracy: 0.9884 - val_precision: 0.9781 - val_recall: 1.0000\n",
      "Epoch 7/50\n",
      "235/235 [==============================] - 3s 13ms/step - loss: 0.0584 - binary_accuracy: 0.9848 - precision: 0.9731 - recall: 0.9968 - val_loss: 0.0323 - val_binary_accuracy: 0.9932 - val_precision: 0.9871 - val_recall: 1.0000\n",
      "Epoch 8/50\n",
      "235/235 [==============================] - 3s 13ms/step - loss: 0.0559 - binary_accuracy: 0.9849 - precision: 0.9751 - recall: 0.9949 - val_loss: 0.0393 - val_binary_accuracy: 0.9908 - val_precision: 0.9826 - val_recall: 1.0000\n",
      "Epoch 9/50\n",
      "235/235 [==============================] - 3s 13ms/step - loss: 0.0585 - binary_accuracy: 0.9845 - precision: 0.9741 - recall: 0.9951 - val_loss: 0.0432 - val_binary_accuracy: 0.9920 - val_precision: 0.9848 - val_recall: 1.0000\n",
      "Epoch 10/50\n",
      "235/235 [==============================] - 3s 13ms/step - loss: 0.0396 - binary_accuracy: 0.9911 - precision: 0.9827 - recall: 0.9995 - val_loss: 0.0502 - val_binary_accuracy: 0.9860 - val_precision: 0.9809 - val_recall: 0.9923\n",
      "Epoch 11/50\n",
      "235/235 [==============================] - 3s 13ms/step - loss: 0.0834 - binary_accuracy: 0.9772 - precision: 0.9652 - recall: 0.9895 - val_loss: 0.0366 - val_binary_accuracy: 0.9912 - val_precision: 0.9833 - val_recall: 1.0000\n",
      "Epoch 12/50\n",
      "235/235 [==============================] - 3s 13ms/step - loss: 0.0398 - binary_accuracy: 0.9907 - precision: 0.9819 - recall: 0.9995 - val_loss: 0.0409 - val_binary_accuracy: 0.9884 - val_precision: 0.9781 - val_recall: 1.0000\n",
      "Epoch 13/50\n",
      "235/235 [==============================] - 3s 13ms/step - loss: 0.0386 - binary_accuracy: 0.9916 - precision: 0.9840 - recall: 0.9992 - val_loss: 0.0182 - val_binary_accuracy: 0.9960 - val_precision: 0.9923 - val_recall: 1.0000\n",
      "Epoch 14/50\n",
      "235/235 [==============================] - 3s 13ms/step - loss: 0.0778 - binary_accuracy: 0.9799 - precision: 0.9693 - recall: 0.9905 - val_loss: 0.0583 - val_binary_accuracy: 0.9852 - val_precision: 0.9723 - val_recall: 1.0000\n",
      "Epoch 15/50\n",
      "235/235 [==============================] - 3s 13ms/step - loss: 0.0380 - binary_accuracy: 0.9903 - precision: 0.9814 - recall: 0.9992 - val_loss: 0.0245 - val_binary_accuracy: 0.9936 - val_precision: 0.9878 - val_recall: 1.0000\n",
      "Epoch 16/50\n",
      "235/235 [==============================] - 3s 13ms/step - loss: 0.0272 - binary_accuracy: 0.9941 - precision: 0.9883 - recall: 1.0000 - val_loss: 0.0178 - val_binary_accuracy: 0.9964 - val_precision: 0.9931 - val_recall: 1.0000\n",
      "Epoch 17/50\n",
      "235/235 [==============================] - 3s 13ms/step - loss: 0.0326 - binary_accuracy: 0.9925 - precision: 0.9869 - recall: 0.9981 - val_loss: 0.0161 - val_binary_accuracy: 0.9956 - val_precision: 0.9916 - val_recall: 1.0000\n",
      "Epoch 18/50\n",
      "235/235 [==============================] - 3s 13ms/step - loss: 0.0415 - binary_accuracy: 0.9891 - precision: 0.9824 - recall: 0.9957 - val_loss: 0.0272 - val_binary_accuracy: 0.9932 - val_precision: 0.9871 - val_recall: 1.0000\n",
      "Epoch 19/50\n",
      "235/235 [==============================] - 3s 13ms/step - loss: 0.0284 - binary_accuracy: 0.9933 - precision: 0.9867 - recall: 1.0000 - val_loss: 0.0199 - val_binary_accuracy: 0.9956 - val_precision: 0.9916 - val_recall: 1.0000\n",
      "Epoch 20/50\n",
      "235/235 [==============================] - 3s 13ms/step - loss: 0.0241 - binary_accuracy: 0.9947 - precision: 0.9901 - recall: 0.9992 - val_loss: 0.0508 - val_binary_accuracy: 0.9868 - val_precision: 0.9810 - val_recall: 0.9938\n",
      "Epoch 21/50\n",
      "235/235 [==============================] - 3s 13ms/step - loss: 0.0365 - binary_accuracy: 0.9908 - precision: 0.9840 - recall: 0.9976 - val_loss: 0.0512 - val_binary_accuracy: 0.9928 - val_precision: 0.9908 - val_recall: 0.9954\n",
      "Epoch 22/50\n",
      "235/235 [==============================] - 3s 13ms/step - loss: 0.0373 - binary_accuracy: 0.9905 - precision: 0.9850 - recall: 0.9959 - val_loss: 0.0277 - val_binary_accuracy: 0.9940 - val_precision: 0.9886 - val_recall: 1.0000\n",
      "Epoch 23/50\n",
      "235/235 [==============================] - 3s 13ms/step - loss: 0.0248 - binary_accuracy: 0.9940 - precision: 0.9888 - recall: 0.9992 - val_loss: 0.0159 - val_binary_accuracy: 0.9972 - val_precision: 0.9946 - val_recall: 1.0000\n",
      "Epoch 24/50\n",
      "235/235 [==============================] - 3s 13ms/step - loss: 0.0488 - binary_accuracy: 0.9879 - precision: 0.9818 - recall: 0.9938 - val_loss: 0.0354 - val_binary_accuracy: 0.9896 - val_precision: 0.9803 - val_recall: 1.0000\n",
      "Epoch 25/50\n",
      "235/235 [==============================] - 3s 13ms/step - loss: 0.0268 - binary_accuracy: 0.9936 - precision: 0.9877 - recall: 0.9995 - val_loss: 0.0367 - val_binary_accuracy: 0.9888 - val_precision: 0.9789 - val_recall: 1.0000\n",
      "Epoch 26/50\n",
      "235/235 [==============================] - 3s 13ms/step - loss: 0.0302 - binary_accuracy: 0.9927 - precision: 0.9874 - recall: 0.9978 - val_loss: 0.0224 - val_binary_accuracy: 0.9952 - val_precision: 0.9908 - val_recall: 1.0000\n",
      "Epoch 27/50\n",
      "235/235 [==============================] - 3s 13ms/step - loss: 0.0209 - binary_accuracy: 0.9947 - precision: 0.9896 - recall: 0.9997 - val_loss: 0.0420 - val_binary_accuracy: 0.9908 - val_precision: 0.9870 - val_recall: 0.9954\n",
      "Epoch 28/50\n",
      "235/235 [==============================] - 3s 13ms/step - loss: 0.0144 - binary_accuracy: 0.9959 - precision: 0.9927 - recall: 0.9989 - val_loss: 0.0879 - val_binary_accuracy: 0.9644 - val_precision: 0.9943 - val_recall: 0.9368\n",
      "Epoch 29/50\n",
      "235/235 [==============================] - 3s 13ms/step - loss: 0.0124 - binary_accuracy: 0.9963 - precision: 0.9943 - recall: 0.9981 - val_loss: 0.0256 - val_binary_accuracy: 0.9964 - val_precision: 0.9931 - val_recall: 1.0000\n",
      "Epoch 30/50\n",
      "235/235 [==============================] - 3s 13ms/step - loss: 0.0107 - binary_accuracy: 0.9972 - precision: 0.9960 - recall: 0.9984 - val_loss: 0.0157 - val_binary_accuracy: 0.9964 - val_precision: 0.9931 - val_recall: 1.0000\n",
      "Epoch 31/50\n",
      "235/235 [==============================] - 3s 13ms/step - loss: 0.0052 - binary_accuracy: 0.9984 - precision: 0.9973 - recall: 0.9995 - val_loss: 0.0192 - val_binary_accuracy: 0.9964 - val_precision: 0.9931 - val_recall: 1.0000\n",
      "Epoch 32/50\n",
      "235/235 [==============================] - 3s 13ms/step - loss: 0.0091 - binary_accuracy: 0.9976 - precision: 0.9962 - recall: 0.9989 - val_loss: 1.7593 - val_binary_accuracy: 0.7107 - val_precision: 0.9752 - val_recall: 0.4541\n",
      "Epoch 33/50\n",
      "235/235 [==============================] - 3s 13ms/step - loss: 0.0909 - binary_accuracy: 0.9761 - precision: 0.9627 - recall: 0.9900 - val_loss: 0.0242 - val_binary_accuracy: 0.9944 - val_precision: 0.9893 - val_recall: 1.0000\n",
      "Epoch 34/50\n",
      "235/235 [==============================] - 3s 13ms/step - loss: 0.0131 - binary_accuracy: 0.9963 - precision: 0.9941 - recall: 0.9984 - val_loss: 0.0218 - val_binary_accuracy: 0.9940 - val_precision: 0.9886 - val_recall: 1.0000\n",
      "Epoch 35/50\n",
      "235/235 [==============================] - 3s 13ms/step - loss: 0.0227 - binary_accuracy: 0.9936 - precision: 0.9893 - recall: 0.9978 - val_loss: 0.0157 - val_binary_accuracy: 0.9968 - val_precision: 0.9939 - val_recall: 1.0000\n",
      "Epoch 36/50\n",
      "235/235 [==============================] - 3s 13ms/step - loss: 0.0051 - binary_accuracy: 0.9991 - precision: 0.9981 - recall: 1.0000 - val_loss: 0.0136 - val_binary_accuracy: 0.9968 - val_precision: 0.9939 - val_recall: 1.0000\n",
      "Epoch 37/50\n",
      "235/235 [==============================] - 3s 13ms/step - loss: 0.0048 - binary_accuracy: 0.9991 - precision: 0.9981 - recall: 1.0000 - val_loss: 0.0134 - val_binary_accuracy: 0.9964 - val_precision: 0.9946 - val_recall: 0.9985\n",
      "Epoch 38/50\n",
      "235/235 [==============================] - 3s 13ms/step - loss: 0.0042 - binary_accuracy: 0.9989 - precision: 0.9986 - recall: 0.9992 - val_loss: 0.0241 - val_binary_accuracy: 0.9928 - val_precision: 0.9900 - val_recall: 0.9961\n",
      "Epoch 39/50\n",
      "235/235 [==============================] - 3s 13ms/step - loss: 0.0044 - binary_accuracy: 0.9991 - precision: 0.9987 - recall: 0.9995 - val_loss: 0.0134 - val_binary_accuracy: 0.9964 - val_precision: 0.9931 - val_recall: 1.0000\n",
      "Epoch 40/50\n",
      "235/235 [==============================] - 3s 13ms/step - loss: 0.0033 - binary_accuracy: 0.9995 - precision: 0.9989 - recall: 1.0000 - val_loss: 0.0231 - val_binary_accuracy: 0.9968 - val_precision: 0.9939 - val_recall: 1.0000\n",
      "Epoch 41/50\n",
      "235/235 [==============================] - 3s 13ms/step - loss: 0.0110 - binary_accuracy: 0.9960 - precision: 0.9954 - recall: 0.9965 - val_loss: 0.0202 - val_binary_accuracy: 0.9960 - val_precision: 0.9923 - val_recall: 1.0000\n",
      "Epoch 42/50\n",
      "235/235 [==============================] - 3s 13ms/step - loss: 0.0076 - binary_accuracy: 0.9985 - precision: 0.9973 - recall: 0.9997 - val_loss: 0.0415 - val_binary_accuracy: 0.9892 - val_precision: 0.9930 - val_recall: 0.9861\n",
      "Epoch 43/50\n",
      "235/235 [==============================] - 3s 13ms/step - loss: 0.0053 - binary_accuracy: 0.9988 - precision: 0.9981 - recall: 0.9995 - val_loss: 0.0148 - val_binary_accuracy: 0.9964 - val_precision: 0.9931 - val_recall: 1.0000\n",
      "Epoch 44/50\n",
      "235/235 [==============================] - 3s 13ms/step - loss: 0.0085 - binary_accuracy: 0.9975 - precision: 0.9968 - recall: 0.9981 - val_loss: 0.0207 - val_binary_accuracy: 0.9960 - val_precision: 0.9923 - val_recall: 1.0000\n",
      "Epoch 45/50\n",
      "235/235 [==============================] - 3s 15ms/step - loss: 0.0033 - binary_accuracy: 0.9993 - precision: 0.9987 - recall: 1.0000 - val_loss: 0.0195 - val_binary_accuracy: 0.9956 - val_precision: 0.9916 - val_recall: 1.0000\n",
      "Epoch 46/50\n",
      "235/235 [==============================] - 3s 13ms/step - loss: 0.0023 - binary_accuracy: 0.9996 - precision: 0.9992 - recall: 1.0000 - val_loss: 0.0163 - val_binary_accuracy: 0.9968 - val_precision: 0.9939 - val_recall: 1.0000\n",
      "Epoch 47/50\n",
      "235/235 [==============================] - 3s 13ms/step - loss: 0.0029 - binary_accuracy: 0.9993 - precision: 0.9989 - recall: 0.9997 - val_loss: 0.0127 - val_binary_accuracy: 0.9964 - val_precision: 0.9931 - val_recall: 1.0000\n",
      "Epoch 48/50\n",
      "235/235 [==============================] - 3s 13ms/step - loss: 0.0018 - binary_accuracy: 0.9997 - precision: 0.9995 - recall: 1.0000 - val_loss: 0.0181 - val_binary_accuracy: 0.9964 - val_precision: 0.9931 - val_recall: 1.0000\n",
      "Epoch 49/50\n",
      "235/235 [==============================] - 3s 13ms/step - loss: 0.0018 - binary_accuracy: 0.9996 - precision: 0.9995 - recall: 0.9997 - val_loss: 0.0171 - val_binary_accuracy: 0.9964 - val_precision: 0.9931 - val_recall: 1.0000\n",
      "Epoch 50/50\n",
      "235/235 [==============================] - 3s 13ms/step - loss: 0.0218 - binary_accuracy: 0.9963 - precision: 0.9954 - recall: 0.9970 - val_loss: 0.0148 - val_binary_accuracy: 0.9964 - val_precision: 0.9931 - val_recall: 1.0000\n"
     ]
    }
   ],
   "source": [
    "# train the first model\n",
    "history = model_1.fit(\n",
    "    X_train,\n",
    "    y_train,\n",
    "    epochs=50,\n",
    "    batch_size=32,\n",
    "    validation_data=(X_test, y_test),\n",
    ")"
   ]
  },
  {
   "cell_type": "code",
   "execution_count": 20,
   "metadata": {},
   "outputs": [
    {
     "name": "stdout",
     "output_type": "stream",
     "text": [
      "Epoch 1/10\n",
      "235/235 [==============================] - 3s 9ms/step - loss: 0.6902 - binary_accuracy: 0.5274 - precision_1: 0.5254 - recall_1: 0.4410 - val_loss: 0.6830 - val_binary_accuracy: 0.5918 - val_precision_1: 0.5975 - val_recall_1: 0.6546\n",
      "Epoch 2/10\n",
      "235/235 [==============================] - 2s 8ms/step - loss: 0.6770 - binary_accuracy: 0.5748 - precision_1: 0.5773 - recall_1: 0.5177 - val_loss: 0.6668 - val_binary_accuracy: 0.6138 - val_precision_1: 0.6297 - val_recall_1: 0.6214\n",
      "Epoch 3/10\n",
      "235/235 [==============================] - 2s 8ms/step - loss: 0.6414 - binary_accuracy: 0.6425 - precision_1: 0.6200 - recall_1: 0.7125 - val_loss: 0.6020 - val_binary_accuracy: 0.6895 - val_precision_1: 0.6859 - val_recall_1: 0.7409\n",
      "Epoch 4/10\n",
      "235/235 [==============================] - 2s 8ms/step - loss: 0.5521 - binary_accuracy: 0.7203 - precision_1: 0.6793 - recall_1: 0.8211 - val_loss: 0.4914 - val_binary_accuracy: 0.7751 - val_precision_1: 0.7304 - val_recall_1: 0.8982\n",
      "Epoch 5/10\n",
      "235/235 [==============================] - 2s 8ms/step - loss: 0.4862 - binary_accuracy: 0.7695 - precision_1: 0.7116 - recall_1: 0.8965 - val_loss: 0.4498 - val_binary_accuracy: 0.8027 - val_precision_1: 0.7561 - val_recall_1: 0.9152\n",
      "Epoch 6/10\n",
      "235/235 [==============================] - 2s 7ms/step - loss: 0.4595 - binary_accuracy: 0.7871 - precision_1: 0.7219 - recall_1: 0.9252 - val_loss: 0.4320 - val_binary_accuracy: 0.8119 - val_precision_1: 0.7551 - val_recall_1: 0.9437\n",
      "Epoch 7/10\n",
      "235/235 [==============================] - 2s 7ms/step - loss: 0.4488 - binary_accuracy: 0.7890 - precision_1: 0.7243 - recall_1: 0.9243 - val_loss: 0.4314 - val_binary_accuracy: 0.8103 - val_precision_1: 0.7517 - val_recall_1: 0.9476\n",
      "Epoch 8/10\n",
      "235/235 [==============================] - 2s 7ms/step - loss: 0.4406 - binary_accuracy: 0.7934 - precision_1: 0.7261 - recall_1: 0.9338 - val_loss: 0.4187 - val_binary_accuracy: 0.8127 - val_precision_1: 0.7605 - val_recall_1: 0.9329\n",
      "Epoch 9/10\n",
      "235/235 [==============================] - 2s 7ms/step - loss: 0.4349 - binary_accuracy: 0.7965 - precision_1: 0.7290 - recall_1: 0.9354 - val_loss: 0.4145 - val_binary_accuracy: 0.8123 - val_precision_1: 0.7617 - val_recall_1: 0.9291\n",
      "Epoch 10/10\n",
      "235/235 [==============================] - 2s 7ms/step - loss: 0.4270 - binary_accuracy: 0.8010 - precision_1: 0.7339 - recall_1: 0.9365 - val_loss: 0.4079 - val_binary_accuracy: 0.8199 - val_precision_1: 0.7784 - val_recall_1: 0.9129\n"
     ]
    }
   ],
   "source": [
    "# train the second model\n",
    "history_2 = model_2.fit(\n",
    "    X_train,\n",
    "    y_train,\n",
    "    epochs=10,\n",
    "    batch_size=32,\n",
    "    validation_data=(X_test, y_test),\n",
    ")"
   ]
  },
  {
   "cell_type": "code",
   "execution_count": 29,
   "metadata": {},
   "outputs": [],
   "source": [
    "# save the model 1\n",
    "model_1.save(f\"./Valid_Parentheses/model_1_max_length_{MAX_LENGTH_STRING}.h5\")"
   ]
  },
  {
   "cell_type": "code",
   "execution_count": 21,
   "metadata": {},
   "outputs": [
    {
     "data": {
      "image/png": "[encoded data removed]",
      "text/plain": [
       "<Figure size 900x400 with 2 Axes>"
      ]
     },
     "metadata": {},
     "output_type": "display_data"
    }
   ],
   "source": [
    "h = history.history\n",
    "\n",
    "# Set Seaborn theme and style\n",
    "sns.set_theme(style=\"white\", palette=\"pastel\")\n",
    "\n",
    "\n",
    "plt.figure(figsize=(9, 4))\n",
    "\n",
    "# Plot training loss and validation loss\n",
    "plt.subplot(1, 2, 1)\n",
    "plt.plot(h[\"loss\"], label=\"Training Loss\", marker=\"o\")\n",
    "plt.plot(h[\"val_loss\"], label=\"Validation Loss\", marker=\"o\")\n",
    "plt.title(\"Loss over Training Epochs\")\n",
    "plt.xlabel(\"Epochs\")\n",
    "plt.ylabel(\"Loss\")\n",
    "plt.legend()\n",
    "\n",
    "# Plot training accuracy and validation accuracy\n",
    "plt.subplot(1, 2, 2)\n",
    "\n",
    "plt.plot(h[\"binary_accuracy\"], label=\"Training Accuracy\", marker=\"o\", color=\"#9467bd\")\n",
    "plt.plot(h[\"val_binary_accuracy\"], label=\"Validation Accuracy\", marker=\"o\", color=\"#ec9afc\")\n",
    "plt.title(\"Accuracy over Training Epochs\")\n",
    "plt.xlabel(\"Epochs\")\n",
    "plt.ylabel(\"Accuracy\")\n",
    "plt.legend()\n",
    "\n",
    "plt.suptitle(\"Model 1\")\n",
    "\n",
    "plt.tight_layout()\n",
    "plt.show()"
   ]
  },
  {
   "cell_type": "code",
   "execution_count": 23,
   "metadata": {},
   "outputs": [
    {
     "data": {
      "image/png": "[encoded data removed]",
      "text/plain": [
       "<Figure size 900x400 with 2 Axes>"
      ]
     },
     "metadata": {},
     "output_type": "display_data"
    }
   ],
   "source": [
    "h2 = history_2.history\n",
    "\n",
    "plt.figure(figsize=(9, 4))\n",
    "\n",
    "# Plot training loss and validation loss\n",
    "plt.subplot(1, 2, 1)\n",
    "plt.plot(h2[\"loss\"], label=\"Training Loss\", marker=\"o\")\n",
    "plt.plot(h2[\"val_loss\"], label=\"Validation Loss\", marker=\"o\")\n",
    "plt.title(\"Loss over Training Epochs\")\n",
    "plt.xlabel(\"Epochs\")\n",
    "plt.ylabel(\"Loss\")\n",
    "plt.legend()\n",
    "\n",
    "# Plot training accuracy and validation accuracy\n",
    "plt.subplot(1, 2, 2)\n",
    "\n",
    "plt.plot(h2[\"binary_accuracy\"], label=\"Training Accuracy\", marker=\"o\", color=\"#9467bd\")\n",
    "plt.plot(h2[\"val_binary_accuracy\"], label=\"Validation Accuracy\", marker=\"o\", color=\"#ec9afc\")\n",
    "plt.title(\"Accuracy over Training Epochs\")\n",
    "plt.xlabel(\"Epochs\")\n",
    "plt.ylabel(\"Accuracy\")\n",
    "plt.legend()\n",
    "\n",
    "plt.suptitle(\"Model 2\")\n",
    "\n",
    "plt.tight_layout()\n",
    "plt.show()"
   ]
  },
  {
   "cell_type": "code",
   "execution_count": 24,
   "metadata": {},
   "outputs": [],
   "source": [
    "def plot_confusion_matrix(\n",
    "    actual_labels, predicted_labels, labels, title=\"Confusion Matrix\"\n",
    "):\n",
    "    cm = confusion_matrix(actual_labels, predicted_labels)\n",
    "    sns.heatmap(cm, annot=True, fmt=\"d\", xticklabels=labels, yticklabels=labels)\n",
    "    plt.xlabel(\"Predicted Labels\")\n",
    "    plt.ylabel(\"True Labels\")\n",
    "    plt.title(title)\n",
    "    plt.show()"
   ]
  },
  {
   "cell_type": "code",
   "execution_count": 25,
   "metadata": {},
   "outputs": [
    {
     "name": "stdout",
     "output_type": "stream",
     "text": [
      "79/79 [==============================] - 1s 4ms/step\n"
     ]
    },
    {
     "data": {
      "image/png": "[encoded data removed]",
      "text/plain": [
       "<Figure size 640x480 with 2 Axes>"
      ]
     },
     "metadata": {},
     "output_type": "display_data"
    },
    {
     "name": "stdout",
     "output_type": "stream",
     "text": [
      "79/79 [==============================] - 0s 2ms/step\n"
     ]
    },
    {
     "data": {
      "image/png": "[encoded data removed]",
      "text/plain": [
       "<Figure size 640x480 with 2 Axes>"
      ]
     },
     "metadata": {},
     "output_type": "display_data"
    }
   ],
   "source": [
    "# plot the confusion matrix on the test data\n",
    "y_pred_1 = model_1.predict(X_test)\n",
    "y_pred_1 = np.round(y_pred_1).astype(int).reshape(-1)\n",
    "plot_confusion_matrix(y_test, y_pred_1, labels=[\"Invalid\", \"Valid\"])\n",
    "\n",
    "# plot the confusion matrix on the test data for the second model\n",
    "y_pred_2 = model_2.predict(X_test)\n",
    "y_pred_2 = np.round(y_pred_2).astype(int).reshape(-1)\n",
    "plot_confusion_matrix(y_test, y_pred_2, labels=[\"Invalid\", \"Valid\"])"
   ]
  },
  {
   "cell_type": "code",
   "execution_count": 26,
   "metadata": {},
   "outputs": [
    {
     "data": {
      "text/html": [
       "<div>\n",
       "<style scoped>\n",
       "    .dataframe tbody tr th:only-of-type {\n",
       "        vertical-align: middle;\n",
       "    }\n",
       "\n",
       "    .dataframe tbody tr th {\n",
       "        vertical-align: top;\n",
       "    }\n",
       "\n",
       "    .dataframe thead th {\n",
       "        text-align: right;\n",
       "    }\n",
       "</style>\n",
       "<table border=\"1\" class=\"dataframe\">\n",
       "  <thead>\n",
       "    <tr style=\"text-align: right;\">\n",
       "      <th></th>\n",
       "      <th>0</th>\n",
       "      <th>1</th>\n",
       "      <th>2</th>\n",
       "      <th>3</th>\n",
       "      <th>4</th>\n",
       "      <th>5</th>\n",
       "      <th>6</th>\n",
       "      <th>7</th>\n",
       "      <th>8</th>\n",
       "    </tr>\n",
       "  </thead>\n",
       "  <tbody>\n",
       "    <tr>\n",
       "      <th>0</th>\n",
       "      <td>3</td>\n",
       "      <td>4</td>\n",
       "      <td>5</td>\n",
       "      <td>6</td>\n",
       "      <td>0</td>\n",
       "      <td>0</td>\n",
       "      <td>0</td>\n",
       "      <td>0</td>\n",
       "      <td>1</td>\n",
       "    </tr>\n",
       "    <tr>\n",
       "      <th>1</th>\n",
       "      <td>1</td>\n",
       "      <td>5</td>\n",
       "      <td>1</td>\n",
       "      <td>1</td>\n",
       "      <td>2</td>\n",
       "      <td>2</td>\n",
       "      <td>6</td>\n",
       "      <td>2</td>\n",
       "      <td>1</td>\n",
       "    </tr>\n",
       "    <tr>\n",
       "      <th>2</th>\n",
       "      <td>6</td>\n",
       "      <td>1</td>\n",
       "      <td>1</td>\n",
       "      <td>4</td>\n",
       "      <td>3</td>\n",
       "      <td>4</td>\n",
       "      <td>3</td>\n",
       "      <td>5</td>\n",
       "      <td>0</td>\n",
       "    </tr>\n",
       "    <tr>\n",
       "      <th>3</th>\n",
       "      <td>1</td>\n",
       "      <td>4</td>\n",
       "      <td>1</td>\n",
       "      <td>4</td>\n",
       "      <td>0</td>\n",
       "      <td>0</td>\n",
       "      <td>0</td>\n",
       "      <td>0</td>\n",
       "      <td>0</td>\n",
       "    </tr>\n",
       "    <tr>\n",
       "      <th>4</th>\n",
       "      <td>1</td>\n",
       "      <td>5</td>\n",
       "      <td>5</td>\n",
       "      <td>6</td>\n",
       "      <td>6</td>\n",
       "      <td>2</td>\n",
       "      <td>0</td>\n",
       "      <td>0</td>\n",
       "      <td>1</td>\n",
       "    </tr>\n",
       "    <tr>\n",
       "      <th>5</th>\n",
       "      <td>5</td>\n",
       "      <td>4</td>\n",
       "      <td>6</td>\n",
       "      <td>3</td>\n",
       "      <td>6</td>\n",
       "      <td>1</td>\n",
       "      <td>1</td>\n",
       "      <td>3</td>\n",
       "      <td>0</td>\n",
       "    </tr>\n",
       "    <tr>\n",
       "      <th>6</th>\n",
       "      <td>1</td>\n",
       "      <td>2</td>\n",
       "      <td>3</td>\n",
       "      <td>4</td>\n",
       "      <td>0</td>\n",
       "      <td>0</td>\n",
       "      <td>0</td>\n",
       "      <td>0</td>\n",
       "      <td>1</td>\n",
       "    </tr>\n",
       "    <tr>\n",
       "      <th>7</th>\n",
       "      <td>4</td>\n",
       "      <td>4</td>\n",
       "      <td>1</td>\n",
       "      <td>6</td>\n",
       "      <td>3</td>\n",
       "      <td>2</td>\n",
       "      <td>0</td>\n",
       "      <td>0</td>\n",
       "      <td>0</td>\n",
       "    </tr>\n",
       "    <tr>\n",
       "      <th>8</th>\n",
       "      <td>4</td>\n",
       "      <td>6</td>\n",
       "      <td>5</td>\n",
       "      <td>5</td>\n",
       "      <td>0</td>\n",
       "      <td>0</td>\n",
       "      <td>0</td>\n",
       "      <td>0</td>\n",
       "      <td>0</td>\n",
       "    </tr>\n",
       "    <tr>\n",
       "      <th>9</th>\n",
       "      <td>5</td>\n",
       "      <td>6</td>\n",
       "      <td>3</td>\n",
       "      <td>4</td>\n",
       "      <td>0</td>\n",
       "      <td>0</td>\n",
       "      <td>0</td>\n",
       "      <td>0</td>\n",
       "      <td>1</td>\n",
       "    </tr>\n",
       "  </tbody>\n",
       "</table>\n",
       "</div>"
      ],
      "text/plain": [
       "   0  1  2  3  4  5  6  7  8\n",
       "0  3  4  5  6  0  0  0  0  1\n",
       "1  1  5  1  1  2  2  6  2  1\n",
       "2  6  1  1  4  3  4  3  5  0\n",
       "3  1  4  1  4  0  0  0  0  0\n",
       "4  1  5  5  6  6  2  0  0  1\n",
       "5  5  4  6  3  6  1  1  3  0\n",
       "6  1  2  3  4  0  0  0  0  1\n",
       "7  4  4  1  6  3  2  0  0  0\n",
       "8  4  6  5  5  0  0  0  0  0\n",
       "9  5  6  3  4  0  0  0  0  1"
      ]
     },
     "execution_count": 26,
     "metadata": {},
     "output_type": "execute_result"
    }
   ],
   "source": [
    "sample_test_data = pd.DataFrame(\n",
    "    np.concatenate([X_test[:10], y_test[:10].reshape(-1, 1)], axis=1),\n",
    ")\n",
    "sample_test_data"
   ]
  },
  {
   "cell_type": "code",
   "execution_count": 28,
   "metadata": {},
   "outputs": [
    {
     "data": {
      "text/html": [
       "<div>\n",
       "<style scoped>\n",
       "    .dataframe tbody tr th:only-of-type {\n",
       "        vertical-align: middle;\n",
       "    }\n",
       "\n",
       "    .dataframe tbody tr th {\n",
       "        vertical-align: top;\n",
       "    }\n",
       "\n",
       "    .dataframe thead th {\n",
       "        text-align: right;\n",
       "    }\n",
       "</style>\n",
       "<table border=\"1\" class=\"dataframe\">\n",
       "  <thead>\n",
       "    <tr style=\"text-align: right;\">\n",
       "      <th></th>\n",
       "      <th>string</th>\n",
       "      <th>is_valid</th>\n",
       "      <th>predicted</th>\n",
       "    </tr>\n",
       "  </thead>\n",
       "  <tbody>\n",
       "    <tr>\n",
       "      <th>0</th>\n",
       "      <td>[]{}</td>\n",
       "      <td>1</td>\n",
       "      <td>1</td>\n",
       "    </tr>\n",
       "    <tr>\n",
       "      <th>1</th>\n",
       "      <td>({(())})</td>\n",
       "      <td>1</td>\n",
       "      <td>1</td>\n",
       "    </tr>\n",
       "    <tr>\n",
       "      <th>2</th>\n",
       "      <td>}((][][{</td>\n",
       "      <td>0</td>\n",
       "      <td>0</td>\n",
       "    </tr>\n",
       "    <tr>\n",
       "      <th>3</th>\n",
       "      <td>(](]</td>\n",
       "      <td>0</td>\n",
       "      <td>0</td>\n",
       "    </tr>\n",
       "    <tr>\n",
       "      <th>4</th>\n",
       "      <td>({{}})</td>\n",
       "      <td>1</td>\n",
       "      <td>1</td>\n",
       "    </tr>\n",
       "    <tr>\n",
       "      <th>5</th>\n",
       "      <td>{]}[}(([</td>\n",
       "      <td>0</td>\n",
       "      <td>0</td>\n",
       "    </tr>\n",
       "    <tr>\n",
       "      <th>6</th>\n",
       "      <td>()[]</td>\n",
       "      <td>1</td>\n",
       "      <td>1</td>\n",
       "    </tr>\n",
       "    <tr>\n",
       "      <th>7</th>\n",
       "      <td>]](}[)</td>\n",
       "      <td>0</td>\n",
       "      <td>0</td>\n",
       "    </tr>\n",
       "    <tr>\n",
       "      <th>8</th>\n",
       "      <td>]}{{</td>\n",
       "      <td>0</td>\n",
       "      <td>0</td>\n",
       "    </tr>\n",
       "    <tr>\n",
       "      <th>9</th>\n",
       "      <td>{}[]</td>\n",
       "      <td>1</td>\n",
       "      <td>1</td>\n",
       "    </tr>\n",
       "  </tbody>\n",
       "</table>\n",
       "</div>"
      ],
      "text/plain": [
       "     string  is_valid  predicted\n",
       "0      []{}         1          1\n",
       "1  ({(())})         1          1\n",
       "2  }((][][{         0          0\n",
       "3      (](]         0          0\n",
       "4    ({{}})         1          1\n",
       "5  {]}[}(([         0          0\n",
       "6      ()[]         1          1\n",
       "7    ]](}[)         0          0\n",
       "8      ]}{{         0          0\n",
       "9      {}[]         1          1"
      ]
     },
     "execution_count": 28,
     "metadata": {},
     "output_type": "execute_result"
    }
   ],
   "source": [
    "X_sample_decoded = np.array([decode(x) for x in X_test[:10]])\n",
    "sample_test_data = pd.DataFrame(X_sample_decoded, columns=[\"string\"])\n",
    "sample_test_data[\"is_valid\"] = y_test[:10]\n",
    "sample_test_data[\"predicted\"] = y_pred_1[:10]\n",
    "sample_test_data"
   ]
  },
  {
   "cell_type": "code",
   "execution_count": null,
   "metadata": {},
   "outputs": [],
   "source": []
  },
  {
   "cell_type": "code",
   "execution_count": null,
   "metadata": {},
   "outputs": [],
   "source": []
  }
 ],
 "metadata": {
  "kernelspec": {
   "display_name": "Mayo",
   "language": "python",
   "name": "python3"
  },
  "language_info": {
   "codemirror_mode": {
    "name": "ipython",
    "version": 3
   },
   "file_extension": ".py",
   "mimetype": "text/x-python",
   "name": "python",
   "nbconvert_exporter": "python",
   "pygments_lexer": "ipython3",
   "version": "3.8.16"
  },
  "orig_nbformat": 4
 },
 "nbformat": 4,
 "nbformat_minor": 2
}
