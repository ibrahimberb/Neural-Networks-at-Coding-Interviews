{
 "cells": [
  {
   "cell_type": "markdown",
   "metadata": {},
   "source": [
    "# Fizz Buzz"
   ]
  },
  {
   "cell_type": "markdown",
   "metadata": {},
   "source": [
    "Fizz Buzz is a classic programming problem often used in coding interviews. The problem goes as follows:\n",
    "\n",
    "For numbers from 1 to 100, print:\n",
    "\n",
    "* \"Fizz\" if the number is divisible by 3.\n",
    "* \"Buzz\" if the number is divisible by 5.\n",
    "* \"FizzBuzz\" if the number is divisible by both 3 and 5.\n",
    "* The number itself if it doesn't meet any of the above conditions.\n",
    "  \n",
    "The sequence would look like this:\n",
    "```\n",
    "1, 2, \"Fizz\", 4, \"Buzz\", \"Fizz\", 7, 8, \"Fizz\", \"Buzz\", 11, \"Fizz\", 13, 14, \"FizzBuzz\", 16, ...\n",
    "```"
   ]
  },
  {
   "cell_type": "markdown",
   "metadata": {},
   "source": [
    "Thanks Joel Grus for the idea :)"
   ]
  },
  {
   "cell_type": "code",
   "execution_count": 1,
   "metadata": {},
   "outputs": [
    {
     "name": "stdout",
     "output_type": "stream",
     "text": [
      "/device:GPU:0\n"
     ]
    }
   ],
   "source": [
    "import tensorflow as tf\n",
    "\n",
    "# Check if GPU is available\n",
    "print(tf.test.gpu_device_name())"
   ]
  },
  {
   "cell_type": "code",
   "execution_count": 2,
   "metadata": {},
   "outputs": [],
   "source": [
    "import numpy as np\n",
    "import tensorflow as tf\n",
    "\n",
    "np.random.seed(11)\n",
    "NUM_DIGITS = 10\n",
    "\n",
    "\n",
    "def binary_encode(i, num_digits):\n",
    "    \"\"\"\n",
    "    Binary encode a number i with num_digits digits.\n",
    "    For example, binary_encode(3, 10) = [1, 1, 0, 0, 0, 0, 0, 0, 0, 0]\n",
    "    \"\"\"\n",
    "    return np.array([i >> d & 1 for d in range(num_digits)])\n",
    "\n",
    "\n",
    "def fizz_buzz_encode(i):\n",
    "    \"\"\"\n",
    "    One-hot encode the desired outputs: [number, \"fizz\", \"buzz\", \"fizzbuzz\"]\n",
    "    \"\"\"\n",
    "    if i % 15 == 0:\n",
    "        return np.array([0, 0, 0, 1])\n",
    "    elif i % 5 == 0:\n",
    "        return np.array([0, 0, 1, 0])\n",
    "    elif i % 3 == 0:\n",
    "        return np.array([0, 1, 0, 0])\n",
    "    else:\n",
    "        return np.array([1, 0, 0, 0])\n",
    "\n",
    "\n",
    "def fizz_buzz(i, prediction):\n",
    "    return [str(i), \"fizz\", \"buzz\", \"fizzbuzz\"][prediction]\n",
    "\n",
    "\n",
    "def binary_to_int(bin_array):\n",
    "    return sum([x * 2**i for i, x in enumerate(bin_array)])"
   ]
  },
  {
   "cell_type": "markdown",
   "metadata": {},
   "source": [
    "We will be using 1 to 100 as our test data, so we can use 101 to 1024 as our training data."
   ]
  },
  {
   "cell_type": "code",
   "execution_count": 3,
   "metadata": {},
   "outputs": [],
   "source": [
    "X_train = np.array([binary_encode(i, NUM_DIGITS) for i in range(101, 2 ** NUM_DIGITS)])\n",
    "y_train = np.array([fizz_buzz_encode(i) for i in range(101, 2 ** NUM_DIGITS)])\n",
    "\n",
    "X_test = np.array([binary_encode(i, NUM_DIGITS) for i in range(1, 101)])\n",
    "y_test = np.array([fizz_buzz_encode(i) for i in range(1, 101)])"
   ]
  },
  {
   "cell_type": "code",
   "execution_count": 4,
   "metadata": {},
   "outputs": [
    {
     "name": "stdout",
     "output_type": "stream",
     "text": [
      "Epoch 0, Loss: 1.3805148601531982, Accuracy: 0.34019502997398376\n",
      "Epoch 100, Loss: 0.22195933759212494, Accuracy: 0.9707475900650024\n",
      "Epoch 200, Loss: 0.031659189611673355, Accuracy: 1.0\n",
      "Epoch 300, Loss: 0.009305298328399658, Accuracy: 1.0\n",
      "Epoch 400, Loss: 0.0038019996136426926, Accuracy: 1.0\n",
      "Epoch 500, Loss: 0.001845911843702197, Accuracy: 1.0\n",
      "Epoch 600, Loss: 0.0009772697230800986, Accuracy: 1.0\n",
      "Epoch 700, Loss: 0.0005383770912885666, Accuracy: 1.0\n",
      "Epoch 800, Loss: 0.00030842641717754304, Accuracy: 1.0\n",
      "Epoch 900, Loss: 0.00018496056145522743, Accuracy: 1.0\n"
     ]
    },
    {
     "data": {
      "text/plain": [
       "<keras.callbacks.History at 0x136e10be820>"
      ]
     },
     "execution_count": 4,
     "metadata": {},
     "output_type": "execute_result"
    }
   ],
   "source": [
    "# Define a custom callback to control the output display\n",
    "class DisplayOnceCallback(tf.keras.callbacks.Callback):\n",
    "    def on_epoch_end(self, epoch, logs=None):\n",
    "        if epoch % 100 == 0:\n",
    "            print(f\"Epoch {epoch}, Loss: {logs['loss']}, Accuracy: {logs['accuracy']}\")\n",
    "\n",
    "\n",
    "model = tf.keras.Sequential(\n",
    "    [\n",
    "        tf.keras.layers.Dense(100, input_shape=(NUM_DIGITS,), activation=\"relu\"),\n",
    "        tf.keras.layers.Dense(100, activation=\"relu\"),\n",
    "        tf.keras.layers.Dense(4, activation=\"softmax\"),\n",
    "    ]\n",
    ")\n",
    "\n",
    "model.compile(optimizer=\"adam\", loss=\"categorical_crossentropy\", metrics=[\"accuracy\"])\n",
    "\n",
    "model.fit(\n",
    "    X_train,\n",
    "    y_train,\n",
    "    epochs=1000,\n",
    "    batch_size=128,\n",
    "    callbacks=[DisplayOnceCallback()],\n",
    "    verbose=0,\n",
    ")"
   ]
  },
  {
   "cell_type": "code",
   "execution_count": 5,
   "metadata": {},
   "outputs": [],
   "source": [
    "import numpy as np\n",
    "import matplotlib.pyplot as plt\n",
    "from sklearn.metrics import confusion_matrix\n",
    "import seaborn as sns\n",
    "\n",
    "\n",
    "def plot_confusion_matrix(actual_labels, predicted_labels, labels):\n",
    "    # Creating the confusion matrix\n",
    "    cm = confusion_matrix(actual_labels, predicted_labels)\n",
    "\n",
    "    # Plotting the confusion matrix using seaborn\n",
    "    plt.figure(figsize=(8, 6))\n",
    "    sns.heatmap(\n",
    "        cm, annot=True, fmt=\"d\", xticklabels=labels, yticklabels=labels\n",
    "    )\n",
    "    plt.xlabel(\"Predicted Labels\")\n",
    "    plt.ylabel(\"True Labels\")\n",
    "    plt.title(\"Confusion Matrix\")\n",
    "    plt.show()"
   ]
  },
  {
   "cell_type": "code",
   "execution_count": 6,
   "metadata": {},
   "outputs": [
    {
     "name": "stdout",
     "output_type": "stream",
     "text": [
      "4/4 [==============================] - 0s 3ms/step\n"
     ]
    },
    {
     "data": {
      "image/png": "[encoded data removed]",
      "text/plain": [
       "<Figure size 800x600 with 2 Axes>"
      ]
     },
     "metadata": {},
     "output_type": "display_data"
    },
    {
     "name": "stdout",
     "output_type": "stream",
     "text": [
      "0.97\n"
     ]
    }
   ],
   "source": [
    "predictions = model.predict(X_test)\n",
    "predicted_classes = predictions.argmax(axis=1)\n",
    "\n",
    "actual_classes = y_test.argmax(axis=1)\n",
    "\n",
    "plot_confusion_matrix(\n",
    "    actual_classes,\n",
    "    predicted_classes,\n",
    "    [\"itself\", \"fizz\", \"buzz\", \"fizzbuzz\"],\n",
    ")\n",
    "# accuracy\n",
    "print(np.mean(actual_classes == predicted_classes))"
   ]
  },
  {
   "cell_type": "code",
   "execution_count": null,
   "metadata": {},
   "outputs": [],
   "source": []
  },
  {
   "cell_type": "code",
   "execution_count": null,
   "metadata": {},
   "outputs": [],
   "source": []
  },
  {
   "cell_type": "code",
   "execution_count": null,
   "metadata": {},
   "outputs": [],
   "source": []
  },
  {
   "cell_type": "code",
   "execution_count": null,
   "metadata": {},
   "outputs": [],
   "source": []
  }
 ],
 "metadata": {
  "kernelspec": {
   "display_name": "Practical_ML_CV",
   "language": "python",
   "name": "python3"
  },
  "language_info": {
   "codemirror_mode": {
    "name": "ipython",
    "version": 3
   },
   "file_extension": ".py",
   "mimetype": "text/x-python",
   "name": "python",
   "nbconvert_exporter": "python",
   "pygments_lexer": "ipython3",
   "version": "3.8.16"
  },
  "orig_nbformat": 4
 },
 "nbformat": 4,
 "nbformat_minor": 2
}
